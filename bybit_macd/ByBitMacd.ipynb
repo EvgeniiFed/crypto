{
  "nbformat": 4,
  "nbformat_minor": 0,
  "metadata": {
    "colab": {
      "provenance": []
    },
    "kernelspec": {
      "name": "python3",
      "display_name": "Python 3"
    },
    "language_info": {
      "name": "python"
    }
  },
  "cells": [
    {
      "cell_type": "code",
      "execution_count": 1,
      "metadata": {
        "colab": {
          "base_uri": "https://localhost:8080/"
        },
        "id": "KgGn3f7_8oyX",
        "outputId": "744cc06f-5936-4e55-fd6a-0f4d0cbcb531"
      },
      "outputs": [
        {
          "output_type": "stream",
          "name": "stdout",
          "text": [
            "Looking in indexes: https://pypi.org/simple, https://us-python.pkg.dev/colab-wheels/public/simple/\n",
            "Collecting pybit\n",
            "  Downloading pybit-2.4.1.tar.gz (51 kB)\n",
            "\u001b[K     |████████████████████████████████| 51 kB 1.6 MB/s \n",
            "\u001b[?25hRequirement already satisfied: requests in /usr/local/lib/python3.7/dist-packages (from pybit) (2.23.0)\n",
            "Collecting websocket-client\n",
            "  Downloading websocket_client-1.4.2-py3-none-any.whl (55 kB)\n",
            "\u001b[K     |████████████████████████████████| 55 kB 1.9 MB/s \n",
            "\u001b[?25hCollecting websockets\n",
            "  Downloading websockets-10.4-cp37-cp37m-manylinux_2_5_x86_64.manylinux1_x86_64.manylinux_2_17_x86_64.manylinux2014_x86_64.whl (106 kB)\n",
            "\u001b[K     |████████████████████████████████| 106 kB 27.1 MB/s \n",
            "\u001b[?25hRequirement already satisfied: idna<3,>=2.5 in /usr/local/lib/python3.7/dist-packages (from requests->pybit) (2.10)\n",
            "Requirement already satisfied: urllib3!=1.25.0,!=1.25.1,<1.26,>=1.21.1 in /usr/local/lib/python3.7/dist-packages (from requests->pybit) (1.24.3)\n",
            "Requirement already satisfied: chardet<4,>=3.0.2 in /usr/local/lib/python3.7/dist-packages (from requests->pybit) (3.0.4)\n",
            "Requirement already satisfied: certifi>=2017.4.17 in /usr/local/lib/python3.7/dist-packages (from requests->pybit) (2022.9.24)\n",
            "Building wheels for collected packages: pybit\n",
            "  Building wheel for pybit (setup.py) ... \u001b[?25l\u001b[?25hdone\n",
            "  Created wheel for pybit: filename=pybit-2.4.1-py2.py3-none-any.whl size=48209 sha256=0d4af1a02431ef798d15857e2fa71e8abde37f7d024daf9c81c76fb4a68df811\n",
            "  Stored in directory: /root/.cache/pip/wheels/80/ca/f2/63bafd2858cefce6e175b7b2eab77ac90436b910d944248805\n",
            "Successfully built pybit\n",
            "Installing collected packages: websockets, websocket-client, pybit\n",
            "Successfully installed pybit-2.4.1 websocket-client-1.4.2 websockets-10.4\n"
          ]
        }
      ],
      "source": [
        "pip install pybit"
      ]
    },
    {
      "cell_type": "code",
      "source": [
        "pip install ta"
      ],
      "metadata": {
        "colab": {
          "base_uri": "https://localhost:8080/"
        },
        "id": "hRIJzx8S89HA",
        "outputId": "0201e63b-a48c-4510-e1b3-7a77f20a9a4a"
      },
      "execution_count": 2,
      "outputs": [
        {
          "output_type": "stream",
          "name": "stdout",
          "text": [
            "Looking in indexes: https://pypi.org/simple, https://us-python.pkg.dev/colab-wheels/public/simple/\n",
            "Collecting ta\n",
            "  Downloading ta-0.10.2.tar.gz (25 kB)\n",
            "Requirement already satisfied: numpy in /usr/local/lib/python3.7/dist-packages (from ta) (1.21.6)\n",
            "Requirement already satisfied: pandas in /usr/local/lib/python3.7/dist-packages (from ta) (1.3.5)\n",
            "Requirement already satisfied: python-dateutil>=2.7.3 in /usr/local/lib/python3.7/dist-packages (from pandas->ta) (2.8.2)\n",
            "Requirement already satisfied: pytz>=2017.3 in /usr/local/lib/python3.7/dist-packages (from pandas->ta) (2022.5)\n",
            "Requirement already satisfied: six>=1.5 in /usr/local/lib/python3.7/dist-packages (from python-dateutil>=2.7.3->pandas->ta) (1.15.0)\n",
            "Building wheels for collected packages: ta\n",
            "  Building wheel for ta (setup.py) ... \u001b[?25l\u001b[?25hdone\n",
            "  Created wheel for ta: filename=ta-0.10.2-py3-none-any.whl size=29104 sha256=0dc24953b2227365a5b418e39b80cbb237c5e2ba132fb7d783c67ab14c4f27e9\n",
            "  Stored in directory: /root/.cache/pip/wheels/31/31/f1/f2ff471bbc5b84a4b973698ceecdd453ae043971791adc3431\n",
            "Successfully built ta\n",
            "Installing collected packages: ta\n",
            "Successfully installed ta-0.10.2\n"
          ]
        }
      ]
    },
    {
      "cell_type": "code",
      "source": [
        "from pybit import spot\n",
        "import pandas as pd\n",
        "import ta"
      ],
      "metadata": {
        "id": "RU_e9rJB9CnC"
      },
      "execution_count": 3,
      "outputs": []
    },
    {
      "cell_type": "code",
      "source": [
        "api_key =''\n",
        "api_secret = ''"
      ],
      "metadata": {
        "id": "6JsfLdRN9KKh"
      },
      "execution_count": 4,
      "outputs": []
    },
    {
      "cell_type": "code",
      "source": [
        "session = spot.HTTP(endpoint=\"https://api.bybit.com\")"
      ],
      "metadata": {
        "id": "MpeAogC99Qmw"
      },
      "execution_count": null,
      "outputs": []
    },
    {
      "cell_type": "code",
      "source": [
        "def klines(symbol):\n",
        "  kline = session.query_kline(symbol=symbol, interval=\"1m\")\n",
        "  kline = kline['result']\n",
        "  df = pd.DataFrame(kline)\n",
        "  df = df.iloc[:,:6]\n",
        "  df.columns = ['Time', 'Open', 'High', 'Low', 'Close', 'Volume']\n",
        "  df = df.set_index('Time')\n",
        "  df.index = pd.to_datetime(df.index, unit='ms')\n",
        "  df = df.astype(float)\n",
        "  return df\n",
        "\n",
        "def strategy(symbol, qty, open_position = False):\n",
        "\n",
        "  while True:\n",
        "    df = klines(symbol)\n",
        "    if not open_position:\n",
        "      if ta.trend.macd_diff(df.Close).iloc[-1] > 0 \\\n",
        "      and ta.trend.macd_diff(df.Close).iloc[-2] < 0:\n",
        "        order = session.place_active_order(symbol=symbol, side='Buy', type='MARKET', qty=qty, timInForce='GTC')\n",
        "        print(order)\n",
        "        open_position = True\n",
        "        break\n",
        "      \n",
        "    if open_position:\n",
        "      while True:\n",
        "        df = klines(symbol)\n",
        "        if ta.trend.macd_diff(df.Close).iloc[-1] < 0 \\\n",
        "        and ta.trend.macd_diff(df.Close).iloc[-2] > 0:\n",
        "          order = session.place_active_order(symbol=symbol, side='Sell', type='MARKET', qty=qty, timInForce='GTC')\n",
        "          print(order)\n",
        "          open_position = False\n",
        "          break\n"
      ],
      "metadata": {
        "id": "QOOR_0o_HNMc"
      },
      "execution_count": null,
      "outputs": []
    },
    {
      "cell_type": "code",
      "source": [
        "strategy(\"WLKNUSDT\", 10)"
      ],
      "metadata": {
        "id": "UYFwdCY_LZpM"
      },
      "execution_count": null,
      "outputs": []
    }
  ]
}